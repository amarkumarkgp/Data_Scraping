{
 "cells": [
  {
   "cell_type": "code",
   "execution_count": 1,
   "metadata": {},
   "outputs": [],
   "source": [
    "import pandas as pd\n",
    "import numpy as np\n",
    "import requests\n",
    "import lxml\n",
    "import re\n",
    "from bs4 import BeautifulSoup as bs"
   ]
  },
  {
   "cell_type": "code",
   "execution_count": 56,
   "metadata": {},
   "outputs": [],
   "source": [
    "#the li_filte function will clean the series\n",
    "def li_filter(xyz):\n",
    "    corpus_a =[]\n",
    "    if xyz:\n",
    "        for i in xyz:\n",
    "            temp = re.sub('[^a-zA-Z0-9]', ' ', str(i.text))\n",
    "            temp = temp.split()\n",
    "            temp = ' '.join(temp)\n",
    "            corpus_a.append(temp)\n",
    "        return (corpus_a)\n",
    "    else:\n",
    "        return ('None')\n",
    "\n",
    "#getting url and data in lxml\n",
    "url = r'https://dir.indiamart.com/jaipur/cold-chain-logistics.html'\n",
    "source = requests.get(url).text\n",
    "soup   = bs(source, 'lxml')\n",
    "\n",
    "#extracting the relevant data\n",
    "title  = soup.find_all('a', attrs= {'class':'pnm ldf cur'})\n",
    "title  = li_filter(title)\n",
    "area   = soup.find_all('span', attrs= {'class':'ls_co phn bo'})\n",
    "area  =  li_filter(area)\n",
    "address= soup.find_all('a', attrs= {'class':'lcname'})\n",
    "address  = li_filter(address)\n",
    "contact= soup.find_all('div', attrs= {'class':\"clg\"})\n",
    "contact = li_filter(contact)\n",
    "'''field = soup.find_all('div', attrs= {'class':'desc'})\n",
    "field = li_filter(field)'''\n",
    "#Saving the data into csv file\n",
    "ggg = list(zip(address,area, contact))\n",
    "f_data = pd.DataFrame(ggg)\n",
    "f_data = f_data.to_csv('Cold chain logistic services(Jaipur).csv', sep=',')"
   ]
  },
  {
   "cell_type": "code",
   "execution_count": 50,
   "metadata": {},
   "outputs": [
    {
     "data": {
      "text/html": [
       "<div>\n",
       "<style scoped>\n",
       "    .dataframe tbody tr th:only-of-type {\n",
       "        vertical-align: middle;\n",
       "    }\n",
       "\n",
       "    .dataframe tbody tr th {\n",
       "        vertical-align: top;\n",
       "    }\n",
       "\n",
       "    .dataframe thead th {\n",
       "        text-align: right;\n",
       "    }\n",
       "</style>\n",
       "<table border=\"1\" class=\"dataframe\">\n",
       "  <thead>\n",
       "    <tr style=\"text-align: right;\">\n",
       "      <th></th>\n",
       "      <th>0</th>\n",
       "      <th>1</th>\n",
       "      <th>2</th>\n",
       "    </tr>\n",
       "  </thead>\n",
       "  <tbody>\n",
       "    <tr>\n",
       "      <th>0</th>\n",
       "      <td>Transtruck Logistics Private Limited</td>\n",
       "      <td>Call 9633642101</td>\n",
       "      <td>Indira Nagar BengaluruNo 222 Nurturelabz Domlu...</td>\n",
       "    </tr>\n",
       "    <tr>\n",
       "      <th>1</th>\n",
       "      <td>Indial Shipping Private Limited Bengaluru</td>\n",
       "      <td>Call 080 30570770</td>\n",
       "      <td>Ulsoor BengaluruE 308 Sunrise Chambers 22 Ulso...</td>\n",
       "    </tr>\n",
       "    <tr>\n",
       "      <th>2</th>\n",
       "      <td>Gati Ltd</td>\n",
       "      <td>Call 8049034221</td>\n",
       "      <td>Phase 1 BengaluruPeenya Industrial Area Bengal...</td>\n",
       "    </tr>\n",
       "    <tr>\n",
       "      <th>3</th>\n",
       "      <td>Gati Ltd</td>\n",
       "      <td>Call 9741160014</td>\n",
       "      <td>Peenya Industrial Area Phase 1 BengaluruPeenya...</td>\n",
       "    </tr>\n",
       "    <tr>\n",
       "      <th>4</th>\n",
       "      <td>Uniworld Logistics Private Limited</td>\n",
       "      <td>Call 9229814789</td>\n",
       "      <td>Koramangala Bengaluru225 S T Bed Extn 5 th Mai...</td>\n",
       "    </tr>\n",
       "    <tr>\n",
       "      <th>5</th>\n",
       "      <td>Total Procurement Solution</td>\n",
       "      <td>Call 9742210284</td>\n",
       "      <td>Rajaji Nagar BengaluruNo 204 3rd Floor 75th Cr...</td>\n",
       "    </tr>\n",
       "    <tr>\n",
       "      <th>6</th>\n",
       "      <td>Uniworld Logistics Limited</td>\n",
       "      <td>Call 9980120967</td>\n",
       "      <td>Koramangala Bengaluru 225 S T Bed Extension 5t...</td>\n",
       "    </tr>\n",
       "    <tr>\n",
       "      <th>7</th>\n",
       "      <td>Ablecold Logistics</td>\n",
       "      <td>Call 9589866622</td>\n",
       "      <td>Indiranagar Eshwara Layout Bengaluru 271 1st F...</td>\n",
       "    </tr>\n",
       "    <tr>\n",
       "      <th>8</th>\n",
       "      <td>Tee Cee India</td>\n",
       "      <td>Call 9886628658</td>\n",
       "      <td>Jayanagar BengaluruNo 346 2nd Cross 1st Block ...</td>\n",
       "    </tr>\n",
       "    <tr>\n",
       "      <th>9</th>\n",
       "      <td>Transafe Services Ltd</td>\n",
       "      <td>Call 8489945198</td>\n",
       "      <td>Madukkarai Coimbatore 228 km from Bangalore Ea...</td>\n",
       "    </tr>\n",
       "    <tr>\n",
       "      <th>10</th>\n",
       "      <td>Gojavas Logistics</td>\n",
       "      <td>Call 9787498023</td>\n",
       "      <td>Ground Of Kavun Coimbatore 19 Rejel Nagar 49 G...</td>\n",
       "    </tr>\n",
       "  </tbody>\n",
       "</table>\n",
       "</div>"
      ],
      "text/plain": [
       "                                            0                  1  \\\n",
       "0        Transtruck Logistics Private Limited    Call 9633642101   \n",
       "1   Indial Shipping Private Limited Bengaluru  Call 080 30570770   \n",
       "2                                    Gati Ltd    Call 8049034221   \n",
       "3                                    Gati Ltd    Call 9741160014   \n",
       "4          Uniworld Logistics Private Limited    Call 9229814789   \n",
       "5                  Total Procurement Solution    Call 9742210284   \n",
       "6                  Uniworld Logistics Limited    Call 9980120967   \n",
       "7                          Ablecold Logistics    Call 9589866622   \n",
       "8                               Tee Cee India    Call 9886628658   \n",
       "9                       Transafe Services Ltd    Call 8489945198   \n",
       "10                          Gojavas Logistics    Call 9787498023   \n",
       "\n",
       "                                                    2  \n",
       "0   Indira Nagar BengaluruNo 222 Nurturelabz Domlu...  \n",
       "1   Ulsoor BengaluruE 308 Sunrise Chambers 22 Ulso...  \n",
       "2   Phase 1 BengaluruPeenya Industrial Area Bengal...  \n",
       "3   Peenya Industrial Area Phase 1 BengaluruPeenya...  \n",
       "4   Koramangala Bengaluru225 S T Bed Extn 5 th Mai...  \n",
       "5   Rajaji Nagar BengaluruNo 204 3rd Floor 75th Cr...  \n",
       "6   Koramangala Bengaluru 225 S T Bed Extension 5t...  \n",
       "7   Indiranagar Eshwara Layout Bengaluru 271 1st F...  \n",
       "8   Jayanagar BengaluruNo 346 2nd Cross 1st Block ...  \n",
       "9   Madukkarai Coimbatore 228 km from Bangalore Ea...  \n",
       "10  Ground Of Kavun Coimbatore 19 Rejel Nagar 49 G...  "
      ]
     },
     "execution_count": 50,
     "metadata": {},
     "output_type": "execute_result"
    }
   ],
   "source": [
    "f_data"
   ]
  },
  {
   "cell_type": "code",
   "execution_count": 30,
   "metadata": {},
   "outputs": [
    {
     "data": {
      "text/plain": [
       "['Cold Chain Logisticss',\n",
       " 'Cold Chain Logistics',\n",
       " 'Cold Chain Supply Mangement',\n",
       " 'Gati Kausar Cold Chain Logistics Services',\n",
       " 'Logistics For Pharma And Cold Chain Solutions']"
      ]
     },
     "execution_count": 30,
     "metadata": {},
     "output_type": "execute_result"
    }
   ],
   "source": [
    "title"
   ]
  },
  {
   "cell_type": "code",
   "execution_count": 39,
   "metadata": {},
   "outputs": [
    {
     "data": {
      "text/plain": [
       "['Call 9633642101',\n",
       " 'Call 080 30570770',\n",
       " 'Call 8049034221',\n",
       " 'Call 9741160014',\n",
       " 'Call 9229814789',\n",
       " 'Call 9742210284',\n",
       " 'Call 9980120967',\n",
       " 'Call 9589866622',\n",
       " 'Call 9886628658',\n",
       " 'Call 8489945198',\n",
       " 'Call 9787498023']"
      ]
     },
     "execution_count": 39,
     "metadata": {},
     "output_type": "execute_result"
    }
   ],
   "source": [
    "area"
   ]
  },
  {
   "cell_type": "code",
   "execution_count": 32,
   "metadata": {},
   "outputs": [
    {
     "data": {
      "text/plain": [
       "['Indira Nagar BengaluruNo 222 Nurturelabz Domlur 2nd Stage Bengaluru 560071 Karnataka',\n",
       " 'Phase 1 BengaluruPeenya Industrial Area Bengaluru 560058 Karnataka',\n",
       " 'Ulsoor BengaluruE 308 Sunrise Chambers 22 Ulsoor Road Bengaluru 560 042 Karnataka',\n",
       " 'Peenya Industrial Area Phase 1 BengaluruPeenya Industrial Area Phase 1 Bengaluru 560058 Karnataka',\n",
       " 'Koramangala Bengaluru225 S T Bed Extn 5 th Main 4 th Block Koramangala Bengaluru 560034 Karnataka',\n",
       " 'Rajaji Nagar BengaluruNo 204 3rd Floor 75th Cross 12th B Main 6th Block Rajajinagar Bengaluru 560010 Karnataka',\n",
       " 'Koramangala Bengaluru 225 S T Bed Extension 5th Main 4th Block Koramangala Bangalore 560 034 Karnataka India Bengaluru 560034 Karnataka',\n",
       " 'Indiranagar Eshwara Layout Bengaluru 271 1st Floor 14th Cross Road Eshwara Layout Indiranagar Bengaluru 560038 Karnataka',\n",
       " 'Jayanagar BengaluruNo 346 2nd Cross 1st Block Jayanagar Bengaluru 560011 Karnataka',\n",
       " 'Madukkarai Coimbatore 228 km from Bangalore Easwar Mill Compound Chettipalayam Road Madukkarai Coimbatore 641105 Tamil Nadu',\n",
       " 'Ground Of Kavun Coimbatore 19 Rejel Nagar 49 Ground Of Kavun Coimbatore 641030 Tamil Nadu']"
      ]
     },
     "execution_count": 32,
     "metadata": {},
     "output_type": "execute_result"
    }
   ],
   "source": [
    "contact"
   ]
  },
  {
   "cell_type": "code",
   "execution_count": 40,
   "metadata": {},
   "outputs": [
    {
     "data": {
      "text/plain": [
       "['Transtruck Logistics Private Limited',\n",
       " 'Indial Shipping Private Limited Bengaluru',\n",
       " 'Gati Ltd',\n",
       " 'Gati Ltd',\n",
       " 'Uniworld Logistics Private Limited',\n",
       " 'Total Procurement Solution',\n",
       " 'Uniworld Logistics Limited',\n",
       " 'Ablecold Logistics',\n",
       " 'Tee Cee India',\n",
       " 'Transafe Services Ltd',\n",
       " 'Gojavas Logistics']"
      ]
     },
     "execution_count": 40,
     "metadata": {},
     "output_type": "execute_result"
    }
   ],
   "source": [
    "address"
   ]
  },
  {
   "cell_type": "code",
   "execution_count": 41,
   "metadata": {},
   "outputs": [
    {
     "data": {
      "text/plain": [
       "5"
      ]
     },
     "execution_count": 41,
     "metadata": {},
     "output_type": "execute_result"
    }
   ],
   "source": [
    "len(title)"
   ]
  },
  {
   "cell_type": "code",
   "execution_count": null,
   "metadata": {},
   "outputs": [],
   "source": []
  }
 ],
 "metadata": {
  "kernelspec": {
   "display_name": "Python 3",
   "language": "python",
   "name": "python3"
  },
  "language_info": {
   "codemirror_mode": {
    "name": "ipython",
    "version": 3
   },
   "file_extension": ".py",
   "mimetype": "text/x-python",
   "name": "python",
   "nbconvert_exporter": "python",
   "pygments_lexer": "ipython3",
   "version": "3.6.5"
  }
 },
 "nbformat": 4,
 "nbformat_minor": 2
}
