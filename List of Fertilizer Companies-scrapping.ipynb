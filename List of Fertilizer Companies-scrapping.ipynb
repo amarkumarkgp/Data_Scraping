{
 "cells": [
  {
   "cell_type": "code",
   "execution_count": 1,
   "metadata": {},
   "outputs": [],
   "source": [
    "import pandas as pd\n",
    "import numpy as np\n",
    "import matplotlib.pyplot as plt\n",
    "import lxml\n",
    "from bs4 import BeautifulSoup as bs\n",
    "import requests\n",
    "import re"
   ]
  },
  {
   "cell_type": "code",
   "execution_count": 2,
   "metadata": {},
   "outputs": [],
   "source": [
    "url = r'http://www.krishijagran.com/list-of-fertilizer-companies'\n",
    "source = requests.get(url).text\n",
    "soup = bs(source, 'lxml')"
   ]
  },
  {
   "cell_type": "code",
   "execution_count": 3,
   "metadata": {},
   "outputs": [],
   "source": [
    "data = soup.find_all('li')\n",
    "data = data[31:]"
   ]
  },
  {
   "cell_type": "code",
   "execution_count": 4,
   "metadata": {},
   "outputs": [],
   "source": [
    "f_data =[] \n",
    "f_data = pd.DataFrame(f_data)\n",
    "\n",
    "for lt in data:\n",
    "    def li_filter(xyz):\n",
    "        corpus_a =[]\n",
    "        if xyz:\n",
    "            for i in xyz:\n",
    "                temp = re.sub('[^a-zA-Z0-9]', ' ', str(i.text))\n",
    "                temp = temp.split()\n",
    "                temp = ' '.join(temp)\n",
    "                corpus_a.append(temp)\n",
    "            return (corpus_a)\n",
    "        else:\n",
    "            return ('None')\n",
    "        \n",
    "    c_name = lt.find_all('h3')\n",
    "    c_name = li_filter(c_name)\n",
    "    c_add  = lt.find_all('address')\n",
    "    c_add  = li_filter(c_add)\n",
    "    c_tel  = lt.find_all('tel')\n",
    "    c_tel  = li_filter(c_tel)\n",
    "    c_field= lt.find_all(\"a\", attrs={'class':'p'})\n",
    "    c_field= li_filter(c_field)\n",
    "    c_field = str(c_field)\n",
    "    \n",
    "    edata  = []\n",
    "    edata = pd.DataFrame(edata)\n",
    "    edata['Company Name'] = c_name\n",
    "    edata[\"Address\"]      = c_add\n",
    "    edata[\"Telephone\"]    = c_tel\n",
    "    edata[\"Deal Area\"]    = c_field\n",
    "    \n",
    "    \n",
    "    f_data = f_data.append(other = edata, ignore_index=True)\n"
   ]
  },
  {
   "cell_type": "code",
   "execution_count": 5,
   "metadata": {},
   "outputs": [
    {
     "data": {
      "text/html": [
       "<div>\n",
       "<style scoped>\n",
       "    .dataframe tbody tr th:only-of-type {\n",
       "        vertical-align: middle;\n",
       "    }\n",
       "\n",
       "    .dataframe tbody tr th {\n",
       "        vertical-align: top;\n",
       "    }\n",
       "\n",
       "    .dataframe thead th {\n",
       "        text-align: right;\n",
       "    }\n",
       "</style>\n",
       "<table border=\"1\" class=\"dataframe\">\n",
       "  <thead>\n",
       "    <tr style=\"text-align: right;\">\n",
       "      <th></th>\n",
       "      <th>Company Name</th>\n",
       "      <th>Address</th>\n",
       "      <th>Telephone</th>\n",
       "      <th>Deal Area</th>\n",
       "    </tr>\n",
       "  </thead>\n",
       "  <tbody>\n",
       "    <tr>\n",
       "      <th>0</th>\n",
       "      <td>Jayshree Agro Products</td>\n",
       "      <td>Bus Station Main Road Opp Vanik Wadi Kankiya P...</td>\n",
       "      <td>08046059830</td>\n",
       "      <td>['Zinc Sulphate', 'Bio Fertilizers', 'Chemical...</td>\n",
       "    </tr>\n",
       "    <tr>\n",
       "      <th>1</th>\n",
       "      <td>Mangalore Chemicals Fertilisers Limited</td>\n",
       "      <td>5 Crescent Road High Grounds 560001</td>\n",
       "      <td>91 80 22208990</td>\n",
       "      <td>['Mangala Urea', 'Mangala DAP', 'Mangala 20 20...</td>\n",
       "    </tr>\n",
       "    <tr>\n",
       "      <th>2</th>\n",
       "      <td>Krushitek Pvt Ltd Satara</td>\n",
       "      <td>275 Chandan Nagar Addl MIDC 415004</td>\n",
       "      <td>2162 240438</td>\n",
       "      <td>['Plant Growth Promoters', 'Insecticides', 'Fu...</td>\n",
       "    </tr>\n",
       "    <tr>\n",
       "      <th>3</th>\n",
       "      <td>Sardar Bio Organic RAJKOT</td>\n",
       "      <td>304 Komal Chambers Opp Chaudhary Highschool Ka...</td>\n",
       "      <td>91 281 2443262</td>\n",
       "      <td>['Fertilizer Natural', 'Fertilizer Suez Compos...</td>\n",
       "    </tr>\n",
       "    <tr>\n",
       "      <th>4</th>\n",
       "      <td>J P Pharma Chem Industries</td>\n",
       "      <td>10 D 2nd Floor Matru Ashish Near Balbharti Sch...</td>\n",
       "      <td>91 22 28072182</td>\n",
       "      <td>None</td>\n",
       "    </tr>\n",
       "  </tbody>\n",
       "</table>\n",
       "</div>"
      ],
      "text/plain": [
       "                              Company Name  \\\n",
       "0                   Jayshree Agro Products   \n",
       "1  Mangalore Chemicals Fertilisers Limited   \n",
       "2                 Krushitek Pvt Ltd Satara   \n",
       "3                Sardar Bio Organic RAJKOT   \n",
       "4               J P Pharma Chem Industries   \n",
       "\n",
       "                                             Address       Telephone  \\\n",
       "0  Bus Station Main Road Opp Vanik Wadi Kankiya P...     08046059830   \n",
       "1                5 Crescent Road High Grounds 560001  91 80 22208990   \n",
       "2                 275 Chandan Nagar Addl MIDC 415004     2162 240438   \n",
       "3  304 Komal Chambers Opp Chaudhary Highschool Ka...  91 281 2443262   \n",
       "4  10 D 2nd Floor Matru Ashish Near Balbharti Sch...  91 22 28072182   \n",
       "\n",
       "                                           Deal Area  \n",
       "0  ['Zinc Sulphate', 'Bio Fertilizers', 'Chemical...  \n",
       "1  ['Mangala Urea', 'Mangala DAP', 'Mangala 20 20...  \n",
       "2  ['Plant Growth Promoters', 'Insecticides', 'Fu...  \n",
       "3  ['Fertilizer Natural', 'Fertilizer Suez Compos...  \n",
       "4                                               None  "
      ]
     },
     "execution_count": 5,
     "metadata": {},
     "output_type": "execute_result"
    }
   ],
   "source": [
    "f_data.head()\n",
    "#f_data.to_csv('List of Fertilizer Companies.csv', sep=',')"
   ]
  },
  {
   "cell_type": "code",
   "execution_count": null,
   "metadata": {},
   "outputs": [],
   "source": []
  }
 ],
 "metadata": {
  "kernelspec": {
   "display_name": "Python 3",
   "language": "python",
   "name": "python3"
  },
  "language_info": {
   "codemirror_mode": {
    "name": "ipython",
    "version": 3
   },
   "file_extension": ".py",
   "mimetype": "text/x-python",
   "name": "python",
   "nbconvert_exporter": "python",
   "pygments_lexer": "ipython3",
   "version": "3.6.4"
  }
 },
 "nbformat": 4,
 "nbformat_minor": 2
}
