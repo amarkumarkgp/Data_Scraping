{
 "cells": [
  {
   "cell_type": "code",
   "execution_count": 1,
   "metadata": {},
   "outputs": [],
   "source": [
    "import lxml\n",
    "from bs4 import BeautifulSoup as bs\n",
    "import requests\n",
    "import re\n",
    "import pandas as pd \n",
    "import numpy as np"
   ]
  },
  {
   "cell_type": "code",
   "execution_count": 63,
   "metadata": {},
   "outputs": [],
   "source": [
    "f_data =[] \n",
    "f_data = pd.DataFrame(f_data)\n",
    "for k in range(0,39,1):\n",
    "    k = str(k)\n",
    "    if k =='0':\n",
    "        url = r'https://vegfru.com/service_list/cold_storage_space'\n",
    "    else:\n",
    "        url = r'https://vegfru.com/service_list/cold_storage_space/'+k\n",
    "    \n",
    "    source = requests.get(url).text\n",
    "    soup = bs(source,'lxml')\n",
    "    #htmllist_2 = soup.select(\".col-md-30.listing-cat\")\n",
    "\n",
    "    htmllist_a = soup.select(\".pure-u-1-1.pure-u-md-18-24\")\n",
    "    htmllist_b = soup.select(\".strongFont\")\n",
    "    corpus_a =[]\n",
    "    for i in range(0,len(htmllist_a)):\n",
    "        temp = re.sub('[^a-zA-Z0-9]', ' ', str(htmllist_a[i].text))\n",
    "        temp = temp.split()\n",
    "        temp = ' '.join(temp)\n",
    "        corpus_a.append(temp)\n",
    "    corpus_b =[]\n",
    "    for i in range(0,len(htmllist_b)):\n",
    "        temp = re.sub('[^a-zA-Z0-9]', ' ', str(htmllist_b[i].text))\n",
    "        temp = temp.split()\n",
    "        temp = ' '.join(temp)\n",
    "        corpus_b.append(temp)\n",
    "    \n",
    "    \n",
    "    from numpy import *\n",
    "    col_name = [\"Specialty Area\",'Product Specialty', 'Technology Used', 'No Of Chambers', 'Per Chamber Capacity','Total Capacity']\n",
    "    if len(corpus_b) == 36:\n",
    "        datas = reshape(corpus_b, (6,6))\n",
    "        datas = pd.DataFrame(datas, columns = col_name)\n",
    "    else:\n",
    "        datas = reshape(corpus_b,(10,6))\n",
    "        datas = pd.DataFrame(datas, columns = col_name)\n",
    "    \n",
    "    edata  = []\n",
    "    edata = pd.DataFrame(edata)\n",
    "    edata['Type'] = corpus_a[1:]\n",
    "    edata[\"Specialty Area\"] =    datas[\"Specialty Area\"]\n",
    "    edata['Product Specialty'] = datas['Product Specialty']\n",
    "    edata['Technology Used']   = datas['Technology Used']\n",
    "    edata['No Of Chambers']    = datas['No Of Chambers'] \n",
    "    edata['Per Chamber Capacity'] = datas['Per Chamber Capacity']\n",
    "    edata['Total Capacity']    = datas['Total Capacity']  \n",
    "    \n",
    "    \n",
    "    f_data = f_data.append(edata, ignore_index = True)\n",
    "    \n",
    "    \n",
    "    "
   ]
  },
  {
   "cell_type": "code",
   "execution_count": 65,
   "metadata": {},
   "outputs": [],
   "source": [
    "f_data.to_csv('Cold_storage_space Data.csv', sep=',')"
   ]
  },
  {
   "cell_type": "code",
   "execution_count": null,
   "metadata": {},
   "outputs": [],
   "source": []
  }
 ],
 "metadata": {
  "kernelspec": {
   "display_name": "Python 3",
   "language": "python",
   "name": "python3"
  },
  "language_info": {
   "codemirror_mode": {
    "name": "ipython",
    "version": 3
   },
   "file_extension": ".py",
   "mimetype": "text/x-python",
   "name": "python",
   "nbconvert_exporter": "python",
   "pygments_lexer": "ipython3",
   "version": "3.6.5"
  }
 },
 "nbformat": 4,
 "nbformat_minor": 2
}
